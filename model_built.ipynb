{
 "cells": [
  {
   "cell_type": "markdown",
   "id": "924ea44d-d727-4233-9d1a-3bac2ef5412e",
   "metadata": {
    "id": "924ea44d-d727-4233-9d1a-3bac2ef5412e"
   },
   "source": [
    "The code consists of the following parts:\n",
    "\n",
    "1. **Section 1** - Prepare datasets\n",
    "2. **Section 2** - Modelling\n",
    "3. **Section 3** - Fine-tuning\n",
    "4. **Section 4** - Evaluation"
   ]
  },
  {
   "cell_type": "code",
   "execution_count": 24,
   "id": "88d2fac8-ffed-4375-b3ce-fa1e7d1280a6",
   "metadata": {
    "colab": {
     "base_uri": "https://localhost:8080/",
     "height": 403
    },
    "executionInfo": {
     "elapsed": 3509,
     "status": "error",
     "timestamp": 1747897986920,
     "user": {
      "displayName": "suong nguyen",
      "userId": "04099975746924988933"
     },
     "user_tz": -540
    },
    "id": "88d2fac8-ffed-4375-b3ce-fa1e7d1280a6",
    "outputId": "579df6c9-032a-4eb2-b190-02472c292411"
   },
   "outputs": [],
   "source": [
    "# Load Libraries & Dataset\n",
    "import os\n",
    "import numpy as np\n",
    "import pandas as pd\n",
    "import xgboost as xgb\n",
    "import seaborn as sns\n",
    "from utils import merge_data\n",
    "import matplotlib.pyplot as plt\n",
    "from sklearn.preprocessing import StandardScaler\n",
    "from sklearn.metrics import accuracy_score, roc_auc_score, recall_score, precision_score, f1_score, roc_curve, auc\n",
    "\n",
    "data_path = '/Volumes/WORK/dataset/retail_project/cleaned_data/cleaned_data.csv'\n",
    "products_data_path = '/Volumes/WORK/dataset/retail_project/cleaned_data/potential_products.csv'"
   ]
  },
  {
   "cell_type": "markdown",
   "id": "13DqR6DT2FKY",
   "metadata": {
    "id": "13DqR6DT2FKY"
   },
   "source": [
    "## Section 1: Prepare datasets"
   ]
  },
  {
   "cell_type": "code",
   "execution_count": 27,
   "id": "vKarTq6Q2V06",
   "metadata": {
    "id": "vKarTq6Q2V06"
   },
   "outputs": [],
   "source": [
    "def get_season(month):\n",
    "    if month in [12, 1, 2]:\n",
    "        return 'winter'\n",
    "    elif month in [3, 4, 5]:\n",
    "        return 'spring'\n",
    "    elif month in [6, 7, 8]:\n",
    "        return 'summer'\n",
    "    else:  # 9, 10, 11\n",
    "        return 'autumn'\n",
    "\n",
    "\n",
    "def grouped_data(df, group_col, value_col, group_type):\n",
    "    grouped_df = df.groupby(group_col).agg({value_col: group_type}).reset_index()\n",
    "    return grouped_df\n",
    "\n",
    "def categorize(row, ox, oy):\n",
    "    if row[ox] == 5 and 4 <= row[oy] <= 5:\n",
    "        return 'Champions'\n",
    "    elif 3 <= row[ox] <= 4 and 4 <= row[oy] <= 5:\n",
    "        return 'Loyal Customer'\n",
    "    elif 4 <= row[ox] <= 5 and 2 <= row[oy] <= 3:\n",
    "        return 'Potential Loyalist'\n",
    "    elif row[ox] == 5 and row[oy] == 1:\n",
    "        return 'New Customers'\n",
    "    elif row[ox] == 4 and row[oy] == 1:\n",
    "        return 'Promising'\n",
    "    elif row[ox] == 3 and 1 <= row[oy] <= 2:\n",
    "        return 'Needs Attention'\n",
    "    elif row[ox] == 3 and row[oy] == 3:\n",
    "        return 'About to Sleep'\n",
    "    elif 1 <= row[ox] <= 2 and row[oy] == 5:\n",
    "        return 'Can\\'t Loose Them'\n",
    "    elif 1 <= row[ox] <= 2 and 3 <= row[oy] <= 4:\n",
    "        return 'At Risk'\n",
    "    elif 1 <= row[ox] <= 2 and 1 <= row[oy] <= 2:\n",
    "        return 'Hibernating'\n",
    "    else:\n",
    "        return 'Unclassified'\n",
    "\n",
    "\n",
    "def segment_customers_rfm(df):\n",
    "    # df['invoice_date'] = pd.to_datetime(df['invoice_date'])\n",
    "    reference_date = df['invoice_date'].max() + pd.Timedelta(days=1)\n",
    "\n",
    "    # Calculate R,F,M\n",
    "    rfm = df.groupby('customer_id').agg({\n",
    "        'invoice_date': lambda x: (reference_date - x.max()).days,  # Recency\n",
    "        'invoice': 'nunique',                                       # Frequency\n",
    "        'revenue': 'sum'                                            # Monetary\n",
    "    }).reset_index()\n",
    "\n",
    "    rfm.columns = ['customer_id', 'recency', 'frequency', 'monetary']\n",
    "    rfm['recency_score'] = pd.qcut(rfm['recency'], 5, labels=[5,4,3,2,1])\n",
    "    rfm['monetary_score'] = pd.qcut(rfm['monetary'], 5, labels=[1,2,3,4,5])\n",
    "\n",
    "    rfm['segment_customers'] = rfm.apply(categorize, axis=1, args=('recency_score', 'monetary_score'))\n",
    "    return rfm\n",
    "\n",
    "\n",
    "\n",
    "def created_feature_engineering(data):\n",
    "    df = data.copy()\n",
    "    df['invoice_date'] = pd.to_datetime(df['invoice_date'])\n",
    "    ####### Feature engineering\n",
    "    df_feat_eng = df[['customer_id','label']].drop_duplicates()\n",
    "\n",
    "    ###  1. Number of Invoices per Customer (num_invoices)\n",
    "    # Compute groupby aggregations\n",
    "    invoices_df = grouped_data(df[df['invoice_type']=='purchase'], 'customer_id', 'invoice', 'nunique')\n",
    "    invoices_df = invoices_df.rename(columns={'invoice': 'num_invoice'})\n",
    "    # Merge with feature engineering data\n",
    "    df_feat_eng = merge_data(df_feat_eng, invoices_df[['customer_id','num_invoice']], 'customer_id', 'customer_id', None, 'left')\n",
    "\n",
    "    ####  2. Average Revenue per Invoice per Customer (avg_invoice_revenue)\n",
    "    # Compute groupby aggregations\n",
    "    revenue_per_invoice = grouped_data(df, ['customer_id', 'invoice'], 'revenue', 'sum')\n",
    "    avg_invoice_revenue =  revenue_per_invoice.groupby('customer_id').agg(avg_invoice_revenue = ('revenue', 'mean')).reset_index()\n",
    "    # Merge with feature engineering data\n",
    "    df_feat_eng = merge_data(df_feat_eng, avg_invoice_revenue[['customer_id','avg_invoice_revenue']], 'customer_id', 'customer_id', None, 'left')\n",
    "\n",
    "    ####  3. Average Purchase Interval per Customer (avg_purchase_interval)\n",
    "    # Compute groupby aggregations\n",
    "    invoice_dates = df[df['invoice_type']=='purchase'][['customer_id', 'invoice_date']].drop_duplicates(keep='first')\n",
    "    invoice_dates['invoice_date'] = pd.to_datetime(invoice_dates['invoice_date'])\n",
    "    invoice_dates = invoice_dates.sort_values(by=['customer_id', 'invoice_date'])\n",
    "    invoice_dates['purchase_interval'] = invoice_dates.groupby('customer_id')['invoice_date'].diff().dt.days\n",
    "    avg_purchase_interval = grouped_data(invoice_dates, 'customer_id', 'purchase_interval', 'mean')\n",
    "    avg_purchase_interval = avg_purchase_interval.rename(columns={'purchase_interval': 'avg_purchase_interval'})\n",
    "    # Merge with feature engineering data\n",
    "    df_feat_eng = merge_data(df_feat_eng, avg_purchase_interval[['customer_id','avg_purchase_interval']], 'customer_id', 'customer_id', None, 'left')\n",
    "    # df_feat_eng['avg_purchase_interval'] = df_feat_eng['avg_purchase_interval'].fillna(1000)\n",
    "\n",
    "    ####  4. Average Product Price per Customer (avg_price)\n",
    "    # Compute groupby aggregations\n",
    "    stock_code_price_per_customer = df[df['invoice_type']=='purchase'][['customer_id', 'invoice_date','price']].sort_values('invoice_date', ascending=False)\n",
    "    stock_code_price_per_customer = stock_code_price_per_customer.drop_duplicates(subset='customer_id', keep='first').reset_index(drop=True)\n",
    "    avg_price = grouped_data(stock_code_price_per_customer, 'customer_id', 'price', 'mean')\n",
    "    avg_price = avg_price.rename(columns={'price': 'avg_price'})\n",
    "    # Merge with feature engineering data\n",
    "    df_feat_eng = merge_data(df_feat_eng, avg_price[['customer_id','avg_price']], 'customer_id', 'customer_id', None, 'left')\n",
    "\n",
    "    ####  5. Number of Product Types per Customer (num_product_types)\n",
    "    # Compute groupby aggregations\n",
    "    num_product_types = grouped_data(df[df['invoice_type']=='purchase'], 'customer_id', 'stock_code', 'nunique')\n",
    "    num_product_types = num_product_types.rename(columns={'stock_code': 'num_product_types'})\n",
    "    # Merge with feature engineering data\n",
    "    df_feat_eng = merge_data(df_feat_eng, num_product_types[['customer_id','num_product_types']], 'customer_id', 'customer_id', None, 'left')\n",
    "\n",
    "    ####  6. Revenue per Customer (revenue)\n",
    "    # Compute groupby aggregations\n",
    "    revenue = grouped_data(df, 'customer_id', 'revenue', 'sum')\n",
    "    # Merge with feature engineering data\n",
    "    df_feat_eng = merge_data(df_feat_eng, revenue[['customer_id','revenue']], 'customer_id', 'customer_id', None, 'left')\n",
    "\n",
    "    ### 7. Top10 products purchase count (top10_products_purchase_count)\n",
    "    # Compute groupby aggregations\n",
    "    top10_products_purchase_count = grouped_data(df[df['potential_products']==1], 'customer_id', 'quantity', 'sum')\n",
    "    top10_products_purchase_count = top10_products_purchase_count.rename(columns={'quantity': 'top10_products_purchase_count'})\n",
    "    # Merge with feature engineering data\n",
    "    df_feat_eng = merge_data(df_feat_eng, top10_products_purchase_count[['customer_id','top10_products_purchase_count']], 'customer_id', 'customer_id', None, 'left')\n",
    "    df_feat_eng['top10_products_purchase_count'] = df_feat_eng['top10_products_purchase_count'].fillna(0)\n",
    "\n",
    "    #### 8. Recency top10 purchase days (recency_top10_purchase_days)\n",
    "    last_top10_purchase_date = df[df['potential_products']==1].groupby('customer_id').agg(last_top10_purchase_date = ('invoice_date', 'max')).reset_index()\n",
    "    reference_date = df['invoice_date'].max() + pd.Timedelta(days=1)\n",
    "    last_top10_purchase_date['recency_top10_purchase_days'] = (\n",
    "        reference_date - last_top10_purchase_date['last_top10_purchase_date']\n",
    "    ).dt.days\n",
    "    # Merge with feature engineering data\n",
    "    df_feat_eng = merge_data(df_feat_eng, last_top10_purchase_date[['customer_id','recency_top10_purchase_days']], 'customer_id', 'customer_id', None, 'left')\n",
    "    df_feat_eng['recency_top10_purchase_days'] = df_feat_eng['recency_top10_purchase_days'].fillna(1000)\n",
    "\n",
    "\n",
    "    #### 9. Revenue top10\n",
    "    df_2010 = df[['customer_id','num_invoice_autumn']].drop_duplicates()\n",
    "    # Merge with feature engineering data\n",
    "    df_feat_eng = merge_data(df_feat_eng, df_2010, 'customer_id', 'customer_id', None, 'left')\n",
    "    df_feat_eng['num_invoice_autumn'] = df_feat_eng['num_invoice_autumn'].fillna(0)\n",
    "\n",
    "    # #### 10. Revenue trend (revenue_trend)\n",
    "    # df_sorted = data.sort_values(by=['customer_id', 'invoice_date'])\n",
    "    # first_revenue = data.groupby('customer_id').first()['revenue']\n",
    "    # last_revenue = data.groupby('customer_id').last()['revenue']\n",
    "    # revenue_trend = last_revenue - first_revenue\n",
    "    # trend_df = revenue_trend.reset_index().rename(columns={'revenue': 'revenue_trend'})\n",
    "    # # Merge with feature engineering data\n",
    "    # df_feat_eng = merge_data(df_feat_eng, trend_df[['customer_id','revenue_trend']], 'customer_id', 'customer_id', None, 'left')\n",
    "    return df_feat_eng\n",
    "\n",
    "\n",
    "def created_dataset(min_time, max_time, data):\n",
    "    #### Get months\n",
    "    months = data[(data['month']<=max_time)&(data['month']>=min_time)]['month'].unique()\n",
    "\n",
    "    #### Split dataset\n",
    "    # Feature data\n",
    "    feature_df =  data[data['month'].isin(sorted(months, reverse=False)[:5])].copy()\n",
    "    feature_customers = feature_df['customer_id'].unique()\n",
    "\n",
    "    # Labled data\n",
    "    labeled_data = data[\n",
    "        (data['month'].isin(sorted(months, reverse=False)[5:7])) &\n",
    "        (data['potential_products']==1) &\n",
    "        (data['customer_id'].isin(feature_customers))\n",
    "    ]\n",
    "\n",
    "    # Assign label\n",
    "    return_customers =  labeled_data[labeled_data['invoice_type']=='purchase']['customer_id'].unique()\n",
    "    feature_df['label'] = np.where(feature_df['customer_id'].isin(return_customers),1,0)\n",
    "\n",
    "    #### Created feature engineering\n",
    "    x_data =  created_feature_engineering(feature_df)\n",
    "\n",
    "    #### Segment customers rfm\n",
    "    segment_customers = segment_customers_rfm(feature_df)\n",
    "    x_data = merge_data(x_data, segment_customers[['customer_id','segment_customers']], 'customer_id', 'customer_id', None, 'left')\n",
    "\n",
    "    return x_data"
   ]
  },
  {
   "cell_type": "code",
   "execution_count": 29,
   "id": "5a2ca854-642d-469b-9713-3b39dd1fc7b0",
   "metadata": {
    "executionInfo": {
     "elapsed": 3730,
     "status": "aborted",
     "timestamp": 1747897986923,
     "user": {
      "displayName": "suong nguyen",
      "userId": "04099975746924988933"
     },
     "user_tz": -540
    },
    "id": "5a2ca854-642d-469b-9713-3b39dd1fc7b0"
   },
   "outputs": [],
   "source": [
    "#### Load data\n",
    "\n",
    "# Potential products\n",
    "potential_products_df = pd.read_csv(products_data_path)\n",
    "\n",
    "# Transaction data\n",
    "data = pd.read_csv(data_path)\n",
    "data['invoice_date'] = pd.to_datetime(data['invoice_date'])\n",
    "data['potential_products'] = np.where(data['stock_code'].isin(potential_products_df['stock_code'].unique()),1,0)\n",
    "\n",
    "# Extract data in 2010\n",
    "df_2010 = data[data['invoice_date'].dt.year == 2010].reset_index(drop=True)\n",
    "df_2010['season'] = df_2010['month'].apply(get_season)\n",
    "df_2010['num_invoice_autumn'] = (df_2010[df_2010['season'] == 'autumn'].groupby('customer_id')['invoice'].transform('nunique'))\n",
    "df_2010 = df_2010[['customer_id','num_invoice_autumn']].drop_duplicates()\n",
    "\n",
    "# Merge feature in 2010\n",
    "data = merge_data(data, df_2010, 'customer_id', 'customer_id', None, 'left')\n",
    "\n",
    "# Split dataset:\n",
    "test_dataset = created_dataset('2011-05', '2011-11', data)\n",
    "validation_dataset = created_dataset('2011-03', '2011-09', data)\n",
    "train_dataset = created_dataset('2011-01', '2011-07', data)\n"
   ]
  },
  {
   "cell_type": "code",
   "execution_count": 30,
   "id": "b73b82c1-ea94-46a5-8c42-e0af8f17b6d2",
   "metadata": {
    "id": "b73b82c1-ea94-46a5-8c42-e0af8f17b6d2"
   },
   "outputs": [],
   "source": [
    "# Normalize data\n",
    "\n",
    "scaler = StandardScaler()\n",
    "cols_to_scale = test_dataset.columns[2:-1]\n",
    "# scaler.fit_transform(pd.concat([train_dataset[cols_to_scale], validation_dataset[cols_to_scale], test_dataset[cols_to_scale]]))\n",
    "scaler.fit_transform(train_dataset[cols_to_scale])\n",
    "train_dataset[cols_to_scale] = scaler.transform(train_dataset[cols_to_scale])\n",
    "validation_dataset[cols_to_scale] = scaler.transform(validation_dataset[cols_to_scale])\n",
    "test_dataset[cols_to_scale] = scaler.transform(test_dataset[cols_to_scale])"
   ]
  },
  {
   "cell_type": "markdown",
   "id": "0fff11c6-60c1-4f10-82cb-40965425cb05",
   "metadata": {
    "id": "0fff11c6-60c1-4f10-82cb-40965425cb05"
   },
   "source": [
    "## Section 2: Modelling"
   ]
  },
  {
   "cell_type": "code",
   "execution_count": 32,
   "id": "0ed631f2-d23e-4797-97ea-6fdb09fa24b1",
   "metadata": {
    "executionInfo": {
     "elapsed": 45,
     "status": "ok",
     "timestamp": 1747899332502,
     "user": {
      "displayName": "suong nguyen",
      "userId": "04099975746924988933"
     },
     "user_tz": -540
    },
    "id": "0ed631f2-d23e-4797-97ea-6fdb09fa24b1"
   },
   "outputs": [],
   "source": [
    "def prepare_dmatrix(df, label_col):\n",
    "    X = df.drop(columns=[label_col, 'segment_customers'])\n",
    "    y = df[label_col]\n",
    "    return xgb.DMatrix(X, label=y)\n",
    "\n",
    "def train_model(params, dtrain, num_boost_round, dvalid=None, early_stopping_rounds=10):\n",
    "    if dvalid is not None:\n",
    "        evals = [(dtrain, 'train'), (dvalid, 'eval')]\n",
    "        model = xgb.train(\n",
    "            params=params,\n",
    "            dtrain=dtrain,\n",
    "            num_boost_round=num_boost_round,\n",
    "            evals=evals,\n",
    "            early_stopping_rounds=early_stopping_rounds,\n",
    "            verbose_eval=False\n",
    "        )\n",
    "    else:\n",
    "        model = xgb.train(\n",
    "            params=params,\n",
    "            dtrain=dtrain,\n",
    "            num_boost_round=num_boost_round,\n",
    "            verbose_eval=False\n",
    "        )\n",
    "    return model\n",
    "\n",
    "def predict(model, dmatrix, threshold=0.5):\n",
    "    y_pred_prob = model.predict(dmatrix)\n",
    "    y_pred = (y_pred_prob >= threshold).astype(int)\n",
    "    return y_pred_prob, y_pred\n",
    "\n",
    "def evaluate(y_true, y_pred, y_pred_prob):\n",
    "    precision = precision_score(y_true, y_pred)\n",
    "    return precision\n",
    "\n",
    "def feature_importance(model, importance_type='weight', top_n=10):\n",
    "    importance = model.get_score(importance_type=importance_type)\n",
    "    sorted_importance = sorted(importance.items(), key=lambda x: x[1], reverse=True)\n",
    "    return sorted_importance"
   ]
  },
  {
   "cell_type": "code",
   "execution_count": 33,
   "id": "f7c9a279-32fa-489b-bdfc-b4fc186f74a5",
   "metadata": {
    "id": "f7c9a279-32fa-489b-bdfc-b4fc186f74a5",
    "outputId": "6c511337-30c4-4360-969c-62adec903d03"
   },
   "outputs": [
    {
     "name": "stdout",
     "output_type": "stream",
     "text": [
      "Validation Precision: 0.7078\n"
     ]
    }
   ],
   "source": [
    "# Declaration params\n",
    "params = {\n",
    "    'objective': 'binary:logistic',\n",
    "    'eval_metric': 'error',\n",
    "    'eta': 0.1,\n",
    "    'max_depth': 6,\n",
    "    'min_child_weight': 1,\n",
    "    'subsample': 0.8,\n",
    "    'colsample_bytree': 0.8,\n",
    "    # 'scale_pos_weight': 1.8,\n",
    "    'seed': 42,\n",
    "    'verbosity': 0\n",
    "}\n",
    "\n",
    "label_col = 'label'\n",
    "\n",
    "# Prepare DMatrix\n",
    "dtrain = prepare_dmatrix(train_dataset, label_col)\n",
    "dvalid = prepare_dmatrix(validation_dataset, label_col)\n",
    "\n",
    "# Train model\n",
    "model = train_model(params, dtrain, 40, dvalid, 5)\n",
    "# Predict test\n",
    "y_val_true = validation_dataset[label_col]\n",
    "y_pred_prob, y_pred = predict(model, dvalid, threshold=0.5)\n",
    "\n",
    "# Evaluation\n",
    "precision = evaluate(y_val_true, y_pred, y_pred_prob)\n",
    "\n",
    "print(f\"Validation Precision: {precision:.4f}\")"
   ]
  },
  {
   "cell_type": "code",
   "execution_count": 34,
   "id": "2e9d8676-5ca1-438c-b376-a1593a408abe",
   "metadata": {
    "id": "2e9d8676-5ca1-438c-b376-a1593a408abe",
    "outputId": "4a3c6118-0fe3-4aa3-e369-11703b7d14bd"
   },
   "outputs": [
    {
     "name": "stdout",
     "output_type": "stream",
     "text": [
      "{'best_iteration': '17', 'best_score': '0.19191148416634873'}\n"
     ]
    }
   ],
   "source": [
    "print(model.attributes())"
   ]
  },
  {
   "cell_type": "markdown",
   "id": "b1b4d81b-6929-43ad-9eb3-745b6768d934",
   "metadata": {
    "id": "b1b4d81b-6929-43ad-9eb3-745b6768d934"
   },
   "source": [
    "## Section 3: Fine-tuning"
   ]
  },
  {
   "cell_type": "code",
   "execution_count": 47,
   "id": "452edfda-3483-430b-ba52-3b411f12c13d",
   "metadata": {
    "id": "452edfda-3483-430b-ba52-3b411f12c13d"
   },
   "outputs": [],
   "source": [
    "results = []\n",
    "\n",
    "tree_counts = [10, 20, 30, 40]\n",
    "max_depths = list(range(3, 11))\n",
    "\n",
    "for nt in tree_counts:\n",
    "    for md in max_depths:\n",
    "        params_loop = params.copy()\n",
    "        params_loop['max_depth'] = md\n",
    "        dtrain = prepare_dmatrix(train_dataset, 'label')\n",
    "        dvalid = prepare_dmatrix(validation_dataset, 'label')\n",
    "        model_loop = train_model(params_loop, dtrain, nt, dvalid, 5)\n",
    "        y_prob, y_pred = predict(model_loop, dvalid)\n",
    "        precision  = evaluate(validation_dataset['label'], y_pred, y_prob)\n",
    "        results.append({'num_trees': nt, 'max_depth': md, 'precision': precision})\n",
    "\n",
    "tree_depth_df = pd.DataFrame(results)"
   ]
  },
  {
   "cell_type": "code",
   "execution_count": 48,
   "id": "1f5c569c-b182-4db1-9dc5-80c245ec7897",
   "metadata": {},
   "outputs": [],
   "source": [
    "best_tree = tree_depth_df[tree_depth_df['precision']==tree_depth_df['precision'].max()]['num_trees'].tolist()[0]\n",
    "best_max_depth = tree_depth_df[tree_depth_df['precision']==tree_depth_df['precision'].max()]['max_depth'].tolist()[0]"
   ]
  },
  {
   "cell_type": "code",
   "execution_count": 49,
   "id": "361d6b1b-b230-4f21-bc3c-9dd3b1b38e78",
   "metadata": {
    "id": "361d6b1b-b230-4f21-bc3c-9dd3b1b38e78",
    "outputId": "c405c2f7-f99a-47a8-bd91-75b71dfec675"
   },
   "outputs": [
    {
     "data": {
      "image/png": "[encoded data removed]",
      "text/plain": [
       "<Figure size 700x400 with 1 Axes>"
      ]
     },
     "metadata": {},
     "output_type": "display_data"
    }
   ],
   "source": [
    "plt.figure(figsize=(7, 4))\n",
    "for i, nt in enumerate(tree_counts):\n",
    "    subset = tree_depth_df[tree_depth_df['num_trees'] == nt]\n",
    "    plt.plot(\n",
    "        subset['max_depth'],\n",
    "        subset['precision'],\n",
    "        label=f'Trees={nt}',\n",
    "        linewidth=2,\n",
    "        marker='o',\n",
    "        markersize=6,\n",
    "        linestyle='-',\n",
    "        alpha=0.8\n",
    "    )\n",
    "\n",
    "plt.grid(True, linestyle='--', alpha=0.5)\n",
    "plt.xlabel('Max Depth', fontsize=10)\n",
    "plt.ylabel('Precision', fontsize=10)\n",
    "plt.title('Precision vs Max Depth for Different Number of Trees', fontsize=14, pad=8)\n",
    "plt.xticks(range(3, 11), fontsize=12)\n",
    "plt.yticks(fontsize=12)\n",
    "# plt.ylim(0.72, 0.85)\n",
    "plt.legend(title='Tree Count', fontsize=10, title_fontsize=10, loc='lower right', ncol=2)\n",
    "plt.tight_layout()\n",
    "plt.show()"
   ]
  },
  {
   "cell_type": "code",
   "execution_count": 50,
   "id": "30024718-5d50-450e-b3e4-f329d59d349e",
   "metadata": {
    "id": "30024718-5d50-450e-b3e4-f329d59d349e"
   },
   "outputs": [
    {
     "name": "stdout",
     "output_type": "stream",
     "text": [
      "Best lr: 0.1\n"
     ]
    }
   ],
   "source": [
    "results = []\n",
    "lr_list = list(np.arange(0.1, 1.1, 0.1))\n",
    "for lr in lr_list:\n",
    "    params_loop = params.copy()\n",
    "    params_loop['max_depth'] = best_max_depth\n",
    "    params_loop['eta'] = lr\n",
    "    dtrain = prepare_dmatrix(train_dataset, 'label')\n",
    "    dvalid = prepare_dmatrix(validation_dataset, 'label')\n",
    "    model_loop = train_model(params_loop, dtrain, best_tree, dvalid, early_stopping_rounds=5)\n",
    "    y_prob, y_pred = predict(model_loop, dvalid)\n",
    "    precision = evaluate(validation_dataset['label'], y_pred, y_prob)\n",
    "    results.append({'lr': lr, 'precision': precision})\n",
    "\n",
    "lr_df = pd.DataFrame(results)\n",
    "best_lr = lr_df[lr_df['precision'] == lr_df['precision'].max()]['lr'].tolist()[0]\n",
    "print(f'Best lr: {best_lr}')"
   ]
  },
  {
   "cell_type": "code",
   "execution_count": 55,
   "id": "896b6c28-b7fd-4e31-9966-2be97c9d134e",
   "metadata": {},
   "outputs": [
    {
     "data": {
      "text/html": [
       "<div>\n",
       "<style scoped>\n",
       "    .dataframe tbody tr th:only-of-type {\n",
       "        vertical-align: middle;\n",
       "    }\n",
       "\n",
       "    .dataframe tbody tr th {\n",
       "        vertical-align: top;\n",
       "    }\n",
       "\n",
       "    .dataframe thead th {\n",
       "        text-align: right;\n",
       "    }\n",
       "</style>\n",
       "<table border=\"1\" class=\"dataframe\">\n",
       "  <thead>\n",
       "    <tr style=\"text-align: right;\">\n",
       "      <th></th>\n",
       "      <th>lr</th>\n",
       "      <th>precision</th>\n",
       "    </tr>\n",
       "  </thead>\n",
       "  <tbody>\n",
       "    <tr>\n",
       "      <th>0</th>\n",
       "      <td>0.1</td>\n",
       "      <td>0.800000</td>\n",
       "    </tr>\n",
       "    <tr>\n",
       "      <th>1</th>\n",
       "      <td>0.2</td>\n",
       "      <td>0.689024</td>\n",
       "    </tr>\n",
       "    <tr>\n",
       "      <th>2</th>\n",
       "      <td>0.3</td>\n",
       "      <td>0.666667</td>\n",
       "    </tr>\n",
       "    <tr>\n",
       "      <th>3</th>\n",
       "      <td>0.4</td>\n",
       "      <td>0.639896</td>\n",
       "    </tr>\n",
       "    <tr>\n",
       "      <th>4</th>\n",
       "      <td>0.5</td>\n",
       "      <td>0.628647</td>\n",
       "    </tr>\n",
       "    <tr>\n",
       "      <th>5</th>\n",
       "      <td>0.6</td>\n",
       "      <td>0.640097</td>\n",
       "    </tr>\n",
       "    <tr>\n",
       "      <th>6</th>\n",
       "      <td>0.7</td>\n",
       "      <td>0.611765</td>\n",
       "    </tr>\n",
       "    <tr>\n",
       "      <th>7</th>\n",
       "      <td>0.8</td>\n",
       "      <td>0.615566</td>\n",
       "    </tr>\n",
       "    <tr>\n",
       "      <th>8</th>\n",
       "      <td>0.9</td>\n",
       "      <td>0.563679</td>\n",
       "    </tr>\n",
       "    <tr>\n",
       "      <th>9</th>\n",
       "      <td>1.0</td>\n",
       "      <td>0.575949</td>\n",
       "    </tr>\n",
       "  </tbody>\n",
       "</table>\n",
       "</div>"
      ],
      "text/plain": [
       "    lr  precision\n",
       "0  0.1   0.800000\n",
       "1  0.2   0.689024\n",
       "2  0.3   0.666667\n",
       "3  0.4   0.639896\n",
       "4  0.5   0.628647\n",
       "5  0.6   0.640097\n",
       "6  0.7   0.611765\n",
       "7  0.8   0.615566\n",
       "8  0.9   0.563679\n",
       "9  1.0   0.575949"
      ]
     },
     "execution_count": 55,
     "metadata": {},
     "output_type": "execute_result"
    }
   ],
   "source": [
    "lr_df"
   ]
  },
  {
   "cell_type": "markdown",
   "id": "8WuYOwUA50Fh",
   "metadata": {
    "id": "8WuYOwUA50Fh"
   },
   "source": [
    "## Section 4: Evaluation"
   ]
  },
  {
   "cell_type": "code",
   "execution_count": 58,
   "id": "45cdf532-7a49-49be-8953-fabf7aaa65a0",
   "metadata": {
    "id": "45cdf532-7a49-49be-8953-fabf7aaa65a0"
   },
   "outputs": [],
   "source": [
    "best_params = {\n",
    "    'objective': 'binary:logistic',\n",
    "    'eval_metric': 'error',\n",
    "    'eta': best_lr,\n",
    "    'max_depth': best_max_depth,\n",
    "    'min_child_weight': 1,\n",
    "    'subsample': 0.8,\n",
    "    'colsample_bytree': 0.8,\n",
    "    # 'scale_pos_weight': 1.8,\n",
    "    'seed': 42,\n",
    "    'verbosity': 0\n",
    "}\n",
    "dtest = prepare_dmatrix(test_dataset, 'label')\n",
    "best_model = train_model(params, dtrain, best_tree, None, 5)\n",
    "y_prob, y_pred = predict(best_model, dtest)"
   ]
  },
  {
   "cell_type": "markdown",
   "id": "85124105-9035-4d3b-9bf1-328eae714ff4",
   "metadata": {
    "id": "85124105-9035-4d3b-9bf1-328eae714ff4"
   },
   "source": [
    "## Section 4: Evaluation"
   ]
  },
  {
   "cell_type": "code",
   "execution_count": 61,
   "id": "KCdSmjtC9JKq",
   "metadata": {
    "executionInfo": {
     "elapsed": 13,
     "status": "ok",
     "timestamp": 1747899948094,
     "user": {
      "displayName": "suong nguyen",
      "userId": "04099975746924988933"
     },
     "user_tz": -540
    },
    "id": "KCdSmjtC9JKq"
   },
   "outputs": [],
   "source": [
    "def random_customers(num, num_iteration, data):\n",
    "    results = []\n",
    "    for i in range(0,num_iteration):\n",
    "        random_df = data.sample(n=num, replace=False)\n",
    "\n",
    "        value = random_df[random_df['label']==1]['customer_id'].nunique()/random_df['customer_id'].nunique()\n",
    "        results.append(value)\n",
    "\n",
    "    return sum(results) / len(results)"
   ]
  },
  {
   "cell_type": "markdown",
   "id": "57be61f3-0eda-4b7a-8500-80e33a7597a1",
   "metadata": {
    "id": "57be61f3-0eda-4b7a-8500-80e33a7597a1"
   },
   "source": [
    "### 4.1: Features important"
   ]
  },
  {
   "cell_type": "code",
   "execution_count": 66,
   "id": "2fdc6bff-4585-4e59-aa60-c64011eea535",
   "metadata": {
    "id": "2fdc6bff-4585-4e59-aa60-c64011eea535",
    "outputId": "feb891ef-42ef-4b6d-eb89-3142d3cc0983"
   },
   "outputs": [
    {
     "name": "stdout",
     "output_type": "stream",
     "text": [
      "\n",
      "Feature importances:\n",
      "avg_invoice_revenue: 119.0\n",
      "revenue: 112.0\n",
      "avg_purchase_interval: 110.0\n",
      "avg_price: 108.0\n",
      "recency_top10_purchase_days: 108.0\n",
      "customer_id: 107.0\n",
      "num_product_types: 96.0\n",
      "num_invoice_autumn: 85.0\n",
      "top10_products_purchase_count: 80.0\n",
      "num_invoice: 25.0\n"
     ]
    }
   ],
   "source": [
    "sorted_importance= feature_importance(model, importance_type='weight', top_n=10)\n",
    "\n",
    "print(\"\\nFeature importances:\")\n",
    "for feature, score in sorted_importance[:20]:\n",
    "    print(f\"{feature}: {score}\")\n"
   ]
  },
  {
   "cell_type": "markdown",
   "id": "e408cc50-c6e9-4430-b16b-e4967a61aa20",
   "metadata": {
    "id": "e408cc50-c6e9-4430-b16b-e4967a61aa20"
   },
   "source": [
    "### 4.2: Segment customers rfm"
   ]
  },
  {
   "cell_type": "code",
   "execution_count": 69,
   "id": "69e726d1-6835-4815-9bea-eecfadf52365",
   "metadata": {
    "id": "69e726d1-6835-4815-9bea-eecfadf52365"
   },
   "outputs": [],
   "source": [
    "# Predict test dataset\n",
    "dtest  = prepare_dmatrix(test_dataset, 'label')\n",
    "y_test_true = test_dataset['label']\n",
    "y_pred_prob, y_pred = predict(model, dtest, threshold=0.5)\n",
    "test_dataset['pred_prob'] = y_pred_prob\n",
    "\n",
    "# Evaluation\n",
    "precision= evaluate(y_test_true, y_pred, y_pred_prob)"
   ]
  },
  {
   "cell_type": "code",
   "execution_count": 71,
   "id": "ac6fd88e-fc11-4bcf-82f8-49dcaa13c608",
   "metadata": {
    "id": "ac6fd88e-fc11-4bcf-82f8-49dcaa13c608"
   },
   "outputs": [
    {
     "name": "stdout",
     "output_type": "stream",
     "text": [
      "RFM top label1 ratios = 0.3989473684210526\n",
      "Model top label1 ratios = 0.4726315789473684\n",
      "Random customers = 0.25675789473684213\n"
     ]
    }
   ],
   "source": [
    "# RFM top customers\n",
    "rfm_top_customers =  test_dataset[test_dataset['segment_customers'].isin([\"Champions\",\"Loyal Customer\",\"Can\\'t Loose Them\"])]\n",
    "num_compared_customers = rfm_top_customers['customer_id'].nunique()\n",
    "rfm_top_label1_ratio = rfm_top_customers[rfm_top_customers['label']==1]['customer_id'].nunique()/num_compared_customers\n",
    "print(f'RFM top label1 ratios = {rfm_top_label1_ratio}')\n",
    "\n",
    "# Model top customers\n",
    "model_top_customers = test_dataset.sort_values(by='pred_prob',ascending=False).head(num_compared_customers)\n",
    "model_top_label1_ratio = model_top_customers[model_top_customers['label']==1]['customer_id'].nunique()/num_compared_customers\n",
    "print(f'Model top label1 ratios = {model_top_label1_ratio}')\n",
    "\n",
    "# Random customer\n",
    "print(f'Random customers = {random_customers(num_compared_customers, 100,test_dataset)}')"
   ]
  },
  {
   "cell_type": "markdown",
   "id": "C6WBiRYb77BS",
   "metadata": {
    "id": "C6WBiRYb77BS"
   },
   "source": [
    "### 4.3: Segment customers rfm detail:"
   ]
  },
  {
   "cell_type": "code",
   "execution_count": 78,
   "id": "bdRAGzgM78p4",
   "metadata": {
    "id": "bdRAGzgM78p4"
   },
   "outputs": [
    {
     "name": "stdout",
     "output_type": "stream",
     "text": [
      "RFM top label1 ratios = 0.4473684210526316\n",
      "Model top label1 ratios = 0.6695906432748538\n",
      "Random customers = 0.2593567251461988\n"
     ]
    }
   ],
   "source": [
    "# Champions\n",
    "rfm_top_customers =  test_dataset[test_dataset['segment_customers'].isin([\"Champions\"])]\n",
    "num_compared_customers = rfm_top_customers['customer_id'].nunique()\n",
    "rfm_top_label1_ratio = rfm_top_customers[rfm_top_customers['label']==1]['customer_id'].nunique()/num_compared_customers\n",
    "print(f'RFM top label1 ratios = {rfm_top_label1_ratio}')\n",
    "\n",
    "# Model top customers\n",
    "model_top_customers = test_dataset.sort_values(by='pred_prob',ascending=False).head(num_compared_customers)\n",
    "model_top_label1_ratio = model_top_customers[model_top_customers['label']==1]['customer_id'].nunique()/num_compared_customers\n",
    "print(f'Model top label1 ratios = {model_top_label1_ratio}')\n",
    "\n",
    "# Random customer\n",
    "print(f'Random customers = {random_customers(num_compared_customers, 100,test_dataset)}')"
   ]
  },
  {
   "cell_type": "code",
   "execution_count": 80,
   "id": "2b3444ef-78a1-4d99-8aad-beb02dc0d701",
   "metadata": {},
   "outputs": [
    {
     "name": "stdout",
     "output_type": "stream",
     "text": [
      "RFM top label1 ratios = 0.38404452690166974\n",
      "Model top label1 ratios = 0.5825602968460112\n",
      "Random customers = 0.2601669758812616\n"
     ]
    }
   ],
   "source": [
    "# RFM top customers\n",
    "rfm_top_customers =  test_dataset[test_dataset['segment_customers'].isin([\"Loyal Customer\"])]\n",
    "num_compared_customers = rfm_top_customers['customer_id'].nunique()\n",
    "rfm_top_label1_ratio = rfm_top_customers[rfm_top_customers['label']==1]['customer_id'].nunique()/num_compared_customers\n",
    "print(f'RFM top label1 ratios = {rfm_top_label1_ratio}')\n",
    "\n",
    "# Model top customers\n",
    "model_top_customers = test_dataset.sort_values(by='pred_prob',ascending=False).head(num_compared_customers)\n",
    "model_top_label1_ratio = model_top_customers[model_top_customers['label']==1]['customer_id'].nunique()/num_compared_customers\n",
    "print(f'Model top label1 ratios = {model_top_label1_ratio}')\n",
    "\n",
    "# Random customer\n",
    "print(f'Random customers = {random_customers(num_compared_customers, 100,test_dataset)}')"
   ]
  },
  {
   "cell_type": "code",
   "execution_count": 84,
   "id": "a5a6c167-f934-46d2-a98b-fac8983fcd52",
   "metadata": {},
   "outputs": [
    {
     "name": "stdout",
     "output_type": "stream",
     "text": [
      "RFM top label1 ratios = 0.2753623188405797\n",
      "Model top label1 ratios = 0.8115942028985508\n",
      "Random customers = 0.2628985507246377\n"
     ]
    }
   ],
   "source": [
    "# RFM top customers\n",
    "rfm_top_customers =  test_dataset[test_dataset['segment_customers'].isin([\"Can\\'t Loose Them\"])]\n",
    "num_compared_customers = rfm_top_customers['customer_id'].nunique()\n",
    "rfm_top_label1_ratio = rfm_top_customers[rfm_top_customers['label']==1]['customer_id'].nunique()/num_compared_customers\n",
    "print(f'RFM top label1 ratios = {rfm_top_label1_ratio}')\n",
    "\n",
    "# Model top customers\n",
    "model_top_customers = test_dataset.sort_values(by='pred_prob',ascending=False).head(num_compared_customers)\n",
    "model_top_label1_ratio = model_top_customers[model_top_customers['label']==1]['customer_id'].nunique()/num_compared_customers\n",
    "print(f'Model top label1 ratios = {model_top_label1_ratio}')\n",
    "\n",
    "# Random customer\n",
    "print(f'Random customers = {random_customers(num_compared_customers, 100,test_dataset)}')"
   ]
  },
  {
   "cell_type": "code",
   "execution_count": null,
   "id": "a46ebc8e-cd9c-4bdf-b07b-7bbfe4682a62",
   "metadata": {},
   "outputs": [],
   "source": []
  }
 ],
 "metadata": {
  "colab": {
   "provenance": []
  },
  "kernelspec": {
   "display_name": "Python [conda env:data_env]",
   "language": "python",
   "name": "conda-env-data_env-py"
  },
  "language_info": {
   "codemirror_mode": {
    "name": "ipython",
    "version": 3
   },
   "file_extension": ".py",
   "mimetype": "text/x-python",
   "name": "python",
   "nbconvert_exporter": "python",
   "pygments_lexer": "ipython3",
   "version": "3.12.9"
  }
 },
 "nbformat": 4,
 "nbformat_minor": 5
}
